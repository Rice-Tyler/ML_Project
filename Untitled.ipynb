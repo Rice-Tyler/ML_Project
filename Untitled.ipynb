{
 "cells": [
  {
   "cell_type": "code",
   "execution_count": 25,
   "metadata": {},
   "outputs": [],
   "source": [
    "import pandas as pd\n",
    "import matplotlib.pyplot as plt\n",
    "import numpy as np\n",
    "import tensorflow as tf\n",
    "from tensorflow.keras import layers\n",
    "from tensorflow.keras import models\n",
    "from tensorflow.keras.datasets import imdb\n",
    "from tensorflow.keras.preprocessing import sequence\n",
    "from sklearn.model_selection import train_test_split"
   ]
  },
  {
   "cell_type": "code",
   "execution_count": 180,
   "metadata": {},
   "outputs": [
    {
     "name": "stdout",
     "output_type": "stream",
     "text": [
      "<class 'pandas.core.frame.DataFrame'>\n",
      "Int64Index: 44898 entries, 0 to 23480\n",
      "Data columns (total 5 columns):\n",
      " #   Column   Non-Null Count  Dtype \n",
      "---  ------   --------------  ----- \n",
      " 0   title    44898 non-null  object\n",
      " 1   text     44898 non-null  object\n",
      " 2   subject  44898 non-null  object\n",
      " 3   date     44898 non-null  object\n",
      " 4   real     44898 non-null  int64 \n",
      "dtypes: int64(1), object(4)\n",
      "memory usage: 2.1+ MB\n"
     ]
    }
   ],
   "source": [
    "real = pd.read_csv('Data/True.csv')\n",
    "fake = pd.read_csv('Data/Fake.csv')\n",
    "\n",
    "real['real'] = [1]*real.shape[0]\n",
    "fake['real'] = [0]*fake.shape[0]\n",
    "\n",
    "full = pd.concat([real,fake],axis=0)\n",
    "full.info()"
   ]
  },
  {
   "cell_type": "code",
   "execution_count": 105,
   "metadata": {},
   "outputs": [],
   "source": []
  },
  {
   "cell_type": "code",
   "execution_count": 106,
   "metadata": {},
   "outputs": [
    {
     "name": "stdout",
     "output_type": "stream",
     "text": [
      "8436\n"
     ]
    }
   ],
   "source": [
    "# punc = ['.','?','!',',',';',':','-',')','(','[',']']\n",
    "# for i in punc:\n",
    "#     full['text'] = [x.replace(i,'{0} '.format(i),1000) for x in full['text']]\n",
    "full_seq = [ x.split(' ') for x in full['text']]\n",
    "\n",
    "mx = 0\n",
    "for i in full_seq:\n",
    "    l = len(i)\n",
    "    if l > mx:\n",
    "        mx = l\n",
    "print (mx)"
   ]
  },
  {
   "cell_type": "code",
   "execution_count": 107,
   "metadata": {},
   "outputs": [
    {
     "data": {
      "text/plain": [
       "18666811"
      ]
     },
     "execution_count": 107,
     "metadata": {},
     "output_type": "execute_result"
    }
   ],
   "source": [
    "tokens = []\n",
    "for i in full_seq:\n",
    "    for k in i:\n",
    "        tokens.append(k)\n",
    "len(tokens)"
   ]
  },
  {
   "cell_type": "code",
   "execution_count": 108,
   "metadata": {},
   "outputs": [],
   "source": [
    "tokens = pd.DataFrame(tokens,columns=['token'])\n",
    "tokens['term'] = tokens.token.replace('\\W+', '', regex=True).str.lower()"
   ]
  },
  {
   "cell_type": "code",
   "execution_count": 109,
   "metadata": {},
   "outputs": [
    {
     "name": "stdout",
     "output_type": "stream",
     "text": [
      "<class 'pandas.core.frame.DataFrame'>\n",
      "RangeIndex: 18666811 entries, 0 to 18666810\n",
      "Data columns (total 2 columns):\n",
      " #   Column  Dtype \n",
      "---  ------  ----- \n",
      " 0   token   object\n",
      " 1   term    object\n",
      "dtypes: object(2)\n",
      "memory usage: 284.8+ MB\n"
     ]
    }
   ],
   "source": [
    "tokens.info()"
   ]
  },
  {
   "cell_type": "code",
   "execution_count": 110,
   "metadata": {},
   "outputs": [
    {
     "data": {
      "text/html": [
       "<div>\n",
       "<style scoped>\n",
       "    .dataframe tbody tr th:only-of-type {\n",
       "        vertical-align: middle;\n",
       "    }\n",
       "\n",
       "    .dataframe tbody tr th {\n",
       "        vertical-align: top;\n",
       "    }\n",
       "\n",
       "    .dataframe thead th {\n",
       "        text-align: right;\n",
       "    }\n",
       "</style>\n",
       "<table border=\"1\" class=\"dataframe\">\n",
       "  <thead>\n",
       "    <tr style=\"text-align: right;\">\n",
       "      <th></th>\n",
       "      <th>token</th>\n",
       "      <th>term</th>\n",
       "    </tr>\n",
       "  </thead>\n",
       "  <tbody>\n",
       "    <tr>\n",
       "      <th>0</th>\n",
       "      <td>WASHINGTON</td>\n",
       "      <td>washington</td>\n",
       "    </tr>\n",
       "    <tr>\n",
       "      <th>1</th>\n",
       "      <td>(Reuters)</td>\n",
       "      <td>reuters</td>\n",
       "    </tr>\n",
       "    <tr>\n",
       "      <th>2</th>\n",
       "      <td>-</td>\n",
       "      <td></td>\n",
       "    </tr>\n",
       "    <tr>\n",
       "      <th>3</th>\n",
       "      <td>The</td>\n",
       "      <td>the</td>\n",
       "    </tr>\n",
       "    <tr>\n",
       "      <th>4</th>\n",
       "      <td>head</td>\n",
       "      <td>head</td>\n",
       "    </tr>\n",
       "    <tr>\n",
       "      <th>...</th>\n",
       "      <td>...</td>\n",
       "      <td>...</td>\n",
       "    </tr>\n",
       "    <tr>\n",
       "      <th>18666806</th>\n",
       "      <td>21st</td>\n",
       "      <td>21st</td>\n",
       "    </tr>\n",
       "    <tr>\n",
       "      <th>18666807</th>\n",
       "      <td>Century</td>\n",
       "      <td>century</td>\n",
       "    </tr>\n",
       "    <tr>\n",
       "      <th>18666808</th>\n",
       "      <td>Wire</td>\n",
       "      <td>wire</td>\n",
       "    </tr>\n",
       "    <tr>\n",
       "      <th>18666809</th>\n",
       "      <td>Iran</td>\n",
       "      <td>iran</td>\n",
       "    </tr>\n",
       "    <tr>\n",
       "      <th>18666810</th>\n",
       "      <td>Files</td>\n",
       "      <td>files</td>\n",
       "    </tr>\n",
       "  </tbody>\n",
       "</table>\n",
       "<p>18666811 rows × 2 columns</p>\n",
       "</div>"
      ],
      "text/plain": [
       "               token        term\n",
       "0         WASHINGTON  washington\n",
       "1          (Reuters)     reuters\n",
       "2                  -            \n",
       "3                The         the\n",
       "4               head        head\n",
       "...              ...         ...\n",
       "18666806        21st        21st\n",
       "18666807     Century     century\n",
       "18666808        Wire        wire\n",
       "18666809        Iran        iran\n",
       "18666810       Files       files\n",
       "\n",
       "[18666811 rows x 2 columns]"
      ]
     },
     "execution_count": 110,
     "metadata": {},
     "output_type": "execute_result"
    }
   ],
   "source": [
    "tokens"
   ]
  },
  {
   "cell_type": "code",
   "execution_count": 111,
   "metadata": {},
   "outputs": [],
   "source": [
    "term_counts = tokens.groupby('term').agg({'term':'count'}).rename(columns={'term':'n'}).sort_values(by='n',ascending=False)"
   ]
  },
  {
   "cell_type": "code",
   "execution_count": 112,
   "metadata": {},
   "outputs": [
    {
     "data": {
      "text/html": [
       "<div>\n",
       "<style scoped>\n",
       "    .dataframe tbody tr th:only-of-type {\n",
       "        vertical-align: middle;\n",
       "    }\n",
       "\n",
       "    .dataframe tbody tr th {\n",
       "        vertical-align: top;\n",
       "    }\n",
       "\n",
       "    .dataframe thead th {\n",
       "        text-align: right;\n",
       "    }\n",
       "</style>\n",
       "<table border=\"1\" class=\"dataframe\">\n",
       "  <thead>\n",
       "    <tr style=\"text-align: right;\">\n",
       "      <th></th>\n",
       "      <th>n</th>\n",
       "      <th>term_id</th>\n",
       "    </tr>\n",
       "    <tr>\n",
       "      <th>term</th>\n",
       "      <th></th>\n",
       "      <th></th>\n",
       "    </tr>\n",
       "  </thead>\n",
       "  <tbody>\n",
       "    <tr>\n",
       "      <th>the</th>\n",
       "      <td>1008684</td>\n",
       "      <td>0</td>\n",
       "    </tr>\n",
       "    <tr>\n",
       "      <th>to</th>\n",
       "      <td>534636</td>\n",
       "      <td>1</td>\n",
       "    </tr>\n",
       "    <tr>\n",
       "      <th></th>\n",
       "      <td>529510</td>\n",
       "      <td>2</td>\n",
       "    </tr>\n",
       "    <tr>\n",
       "      <th>of</th>\n",
       "      <td>440658</td>\n",
       "      <td>3</td>\n",
       "    </tr>\n",
       "    <tr>\n",
       "      <th>a</th>\n",
       "      <td>408059</td>\n",
       "      <td>4</td>\n",
       "    </tr>\n",
       "    <tr>\n",
       "      <th>...</th>\n",
       "      <td>...</td>\n",
       "      <td>...</td>\n",
       "    </tr>\n",
       "    <tr>\n",
       "      <th>intoann</th>\n",
       "      <td>1</td>\n",
       "      <td>228827</td>\n",
       "    </tr>\n",
       "    <tr>\n",
       "      <th>intl</th>\n",
       "      <td>1</td>\n",
       "      <td>228828</td>\n",
       "    </tr>\n",
       "    <tr>\n",
       "      <th>intimidationthe</th>\n",
       "      <td>1</td>\n",
       "      <td>228829</td>\n",
       "    </tr>\n",
       "    <tr>\n",
       "      <th>intimidationo</th>\n",
       "      <td>1</td>\n",
       "      <td>228830</td>\n",
       "    </tr>\n",
       "    <tr>\n",
       "      <th>ツ_</th>\n",
       "      <td>1</td>\n",
       "      <td>228831</td>\n",
       "    </tr>\n",
       "  </tbody>\n",
       "</table>\n",
       "<p>228832 rows × 2 columns</p>\n",
       "</div>"
      ],
      "text/plain": [
       "                       n  term_id\n",
       "term                             \n",
       "the              1008684        0\n",
       "to                534636        1\n",
       "                  529510        2\n",
       "of                440658        3\n",
       "a                 408059        4\n",
       "...                  ...      ...\n",
       "intoann                1   228827\n",
       "intl                   1   228828\n",
       "intimidationthe        1   228829\n",
       "intimidationo          1   228830\n",
       "ツ_                     1   228831\n",
       "\n",
       "[228832 rows x 2 columns]"
      ]
     },
     "execution_count": 112,
     "metadata": {},
     "output_type": "execute_result"
    }
   ],
   "source": [
    "term_counts['term_id'] = range(term_counts.shape[0])\n",
    "term_counts"
   ]
  },
  {
   "cell_type": "code",
   "execution_count": 113,
   "metadata": {},
   "outputs": [],
   "source": [
    "token_counts = tokens.groupby('token').agg({'token':'count'}).rename(columns={'token':'n'})"
   ]
  },
  {
   "cell_type": "code",
   "execution_count": 114,
   "metadata": {},
   "outputs": [
    {
     "data": {
      "text/html": [
       "<div>\n",
       "<style scoped>\n",
       "    .dataframe tbody tr th:only-of-type {\n",
       "        vertical-align: middle;\n",
       "    }\n",
       "\n",
       "    .dataframe tbody tr th {\n",
       "        vertical-align: top;\n",
       "    }\n",
       "\n",
       "    .dataframe thead th {\n",
       "        text-align: right;\n",
       "    }\n",
       "</style>\n",
       "<table border=\"1\" class=\"dataframe\">\n",
       "  <thead>\n",
       "    <tr style=\"text-align: right;\">\n",
       "      <th></th>\n",
       "      <th>n</th>\n",
       "      <th>token_id</th>\n",
       "    </tr>\n",
       "    <tr>\n",
       "      <th>token</th>\n",
       "      <th></th>\n",
       "      <th></th>\n",
       "    </tr>\n",
       "  </thead>\n",
       "  <tbody>\n",
       "    <tr>\n",
       "      <th>the</th>\n",
       "      <td>905748</td>\n",
       "      <td>0</td>\n",
       "    </tr>\n",
       "    <tr>\n",
       "      <th>to</th>\n",
       "      <td>529773</td>\n",
       "      <td>1</td>\n",
       "    </tr>\n",
       "    <tr>\n",
       "      <th></th>\n",
       "      <td>471267</td>\n",
       "      <td>2</td>\n",
       "    </tr>\n",
       "    <tr>\n",
       "      <th>of</th>\n",
       "      <td>437495</td>\n",
       "      <td>3</td>\n",
       "    </tr>\n",
       "    <tr>\n",
       "      <th>and</th>\n",
       "      <td>392418</td>\n",
       "      <td>4</td>\n",
       "    </tr>\n",
       "    <tr>\n",
       "      <th>...</th>\n",
       "      <td>...</td>\n",
       "      <td>...</td>\n",
       "    </tr>\n",
       "    <tr>\n",
       "      <th>last</th>\n",
       "      <td>18593</td>\n",
       "      <td>95</td>\n",
       "    </tr>\n",
       "    <tr>\n",
       "      <th>two</th>\n",
       "      <td>17845</td>\n",
       "      <td>96</td>\n",
       "    </tr>\n",
       "    <tr>\n",
       "      <th>only</th>\n",
       "      <td>17811</td>\n",
       "      <td>97</td>\n",
       "    </tr>\n",
       "    <tr>\n",
       "      <th>being</th>\n",
       "      <td>16893</td>\n",
       "      <td>98</td>\n",
       "    </tr>\n",
       "    <tr>\n",
       "      <th>should</th>\n",
       "      <td>16800</td>\n",
       "      <td>99</td>\n",
       "    </tr>\n",
       "  </tbody>\n",
       "</table>\n",
       "<p>100 rows × 2 columns</p>\n",
       "</div>"
      ],
      "text/plain": [
       "             n  token_id\n",
       "token                   \n",
       "the     905748         0\n",
       "to      529773         1\n",
       "        471267         2\n",
       "of      437495         3\n",
       "and     392418         4\n",
       "...        ...       ...\n",
       "last     18593        95\n",
       "two      17845        96\n",
       "only     17811        97\n",
       "being    16893        98\n",
       "should   16800        99\n",
       "\n",
       "[100 rows x 2 columns]"
      ]
     },
     "execution_count": 114,
     "metadata": {},
     "output_type": "execute_result"
    }
   ],
   "source": [
    "token_counts = token_counts.sort_values(by='n',ascending=False)\n",
    "token_counts['token_id'] = range(token_counts.shape[0])\n",
    "token_counts.head(100)"
   ]
  },
  {
   "cell_type": "code",
   "execution_count": null,
   "metadata": {},
   "outputs": [],
   "source": []
  },
  {
   "cell_type": "code",
   "execution_count": 115,
   "metadata": {},
   "outputs": [],
   "source": [
    "token2 = pd.merge(token_counts.drop(columns=['n']),tokens,on='token')\n",
    "token2 = pd.merge(term_counts.drop(columns=['n']),token2,on='term')"
   ]
  },
  {
   "cell_type": "code",
   "execution_count": 116,
   "metadata": {},
   "outputs": [],
   "source": [
    "token3 = token2.drop_duplicates().set_index('token')"
   ]
  },
  {
   "cell_type": "code",
   "execution_count": null,
   "metadata": {},
   "outputs": [],
   "source": []
  },
  {
   "cell_type": "code",
   "execution_count": 117,
   "metadata": {},
   "outputs": [
    {
     "data": {
      "text/html": [
       "<div>\n",
       "<style scoped>\n",
       "    .dataframe tbody tr th:only-of-type {\n",
       "        vertical-align: middle;\n",
       "    }\n",
       "\n",
       "    .dataframe tbody tr th {\n",
       "        vertical-align: top;\n",
       "    }\n",
       "\n",
       "    .dataframe thead th {\n",
       "        text-align: right;\n",
       "    }\n",
       "</style>\n",
       "<table border=\"1\" class=\"dataframe\">\n",
       "  <thead>\n",
       "    <tr style=\"text-align: right;\">\n",
       "      <th></th>\n",
       "      <th>term</th>\n",
       "      <th>term_id</th>\n",
       "      <th>token_id</th>\n",
       "    </tr>\n",
       "    <tr>\n",
       "      <th>token</th>\n",
       "      <th></th>\n",
       "      <th></th>\n",
       "      <th></th>\n",
       "    </tr>\n",
       "  </thead>\n",
       "  <tbody>\n",
       "    <tr>\n",
       "      <th>the</th>\n",
       "      <td>the</td>\n",
       "      <td>0</td>\n",
       "      <td>0</td>\n",
       "    </tr>\n",
       "    <tr>\n",
       "      <th>The</th>\n",
       "      <td>the</td>\n",
       "      <td>0</td>\n",
       "      <td>17</td>\n",
       "    </tr>\n",
       "    <tr>\n",
       "      <th>“The</th>\n",
       "      <td>the</td>\n",
       "      <td>0</td>\n",
       "      <td>562</td>\n",
       "    </tr>\n",
       "    <tr>\n",
       "      <th>THE</th>\n",
       "      <td>the</td>\n",
       "      <td>0</td>\n",
       "      <td>871</td>\n",
       "    </tr>\n",
       "    <tr>\n",
       "      <th>(the</th>\n",
       "      <td>the</td>\n",
       "      <td>0</td>\n",
       "      <td>3086</td>\n",
       "    </tr>\n",
       "    <tr>\n",
       "      <th>...</th>\n",
       "      <td>...</td>\n",
       "      <td>...</td>\n",
       "      <td>...</td>\n",
       "    </tr>\n",
       "    <tr>\n",
       "      <th>into.Ann</th>\n",
       "      <td>intoann</td>\n",
       "      <td>30000</td>\n",
       "      <td>359081</td>\n",
       "    </tr>\n",
       "    <tr>\n",
       "      <th>int’l</th>\n",
       "      <td>intl</td>\n",
       "      <td>30000</td>\n",
       "      <td>359105</td>\n",
       "    </tr>\n",
       "    <tr>\n",
       "      <th>intimidation.The</th>\n",
       "      <td>intimidationthe</td>\n",
       "      <td>30000</td>\n",
       "      <td>359102</td>\n",
       "    </tr>\n",
       "    <tr>\n",
       "      <th>intimidation.O</th>\n",
       "      <td>intimidationo</td>\n",
       "      <td>30000</td>\n",
       "      <td>359101</td>\n",
       "    </tr>\n",
       "    <tr>\n",
       "      <th>ツ)_/¯”</th>\n",
       "      <td>ツ_</td>\n",
       "      <td>30000</td>\n",
       "      <td>399262</td>\n",
       "    </tr>\n",
       "  </tbody>\n",
       "</table>\n",
       "<p>399263 rows × 3 columns</p>\n",
       "</div>"
      ],
      "text/plain": [
       "                             term  term_id  token_id\n",
       "token                                               \n",
       "the                           the        0         0\n",
       "The                           the        0        17\n",
       "“The                          the        0       562\n",
       "THE                           the        0       871\n",
       "(the                          the        0      3086\n",
       "...                           ...      ...       ...\n",
       "into.Ann                  intoann    30000    359081\n",
       "int’l                        intl    30000    359105\n",
       "intimidation.The  intimidationthe    30000    359102\n",
       "intimidation.O      intimidationo    30000    359101\n",
       "ツ)_/¯”                         ツ_    30000    399262\n",
       "\n",
       "[399263 rows x 3 columns]"
      ]
     },
     "execution_count": 117,
     "metadata": {},
     "output_type": "execute_result"
    }
   ],
   "source": [
    "token3['term_id'] = token3['term_id'].apply(lambda x: x if x < 30000 else 30000)\n",
    "token3"
   ]
  },
  {
   "cell_type": "code",
   "execution_count": 122,
   "metadata": {},
   "outputs": [],
   "source": [
    "token3.to_json('tokens.json')"
   ]
  },
  {
   "cell_type": "code",
   "execution_count": 127,
   "metadata": {},
   "outputs": [],
   "source": [
    "train, test = train_test_split(full, train_size=.25)"
   ]
  },
  {
   "cell_type": "code",
   "execution_count": 129,
   "metadata": {},
   "outputs": [
    {
     "data": {
      "text/plain": [
       "11224"
      ]
     },
     "execution_count": 129,
     "metadata": {},
     "output_type": "execute_result"
    }
   ],
   "source": [
    "train_seq = [ x.split(' ') for x in train['text']]\n",
    "len(train_seq)"
   ]
  },
  {
   "cell_type": "code",
   "execution_count": 161,
   "metadata": {},
   "outputs": [],
   "source": [
    "# all_seqs = []\n",
    "# lenseq = len(full_seq)\n",
    "# for i in range(lenseq):\n",
    "#     temp = []\n",
    "#     for j in full_seq[i]:\n",
    "#         temp.append(token3.loc[j]['term_id'])\n",
    "#     all_seqs.append(temp)\n",
    "#     if not i%10: print('{0}/{1}'.format(i,lenseq))\n",
    "file = open('sequences_numeric.txt','r+')\n",
    "all_sequences = file.readlines()\n",
    "for i in range(len(all_sequences)):\n",
    "    all_sequences[i] = list(map(int,all_sequences[i].split(',')))\n",
    "    \n"
   ]
  },
  {
   "cell_type": "code",
   "execution_count": 162,
   "metadata": {},
   "outputs": [],
   "source": [
    "# all_sequences[0]"
   ]
  },
  {
   "cell_type": "code",
   "execution_count": 163,
   "metadata": {},
   "outputs": [],
   "source": [
    "# seq_str = [(''.join(str(x)).strip('[').strip(']') + '\\n' ) for x in all_seqs]"
   ]
  },
  {
   "cell_type": "code",
   "execution_count": 164,
   "metadata": {},
   "outputs": [],
   "source": [
    "# seq_str[0]"
   ]
  },
  {
   "cell_type": "code",
   "execution_count": 153,
   "metadata": {},
   "outputs": [],
   "source": [
    "# file = open('sequences_numeric.txt','w+')\n",
    "# file.writelines(seq_str)"
   ]
  },
  {
   "cell_type": "code",
   "execution_count": null,
   "metadata": {},
   "outputs": [],
   "source": []
  },
  {
   "cell_type": "code",
   "execution_count": 203,
   "metadata": {},
   "outputs": [],
   "source": [
    "seqs = sequence.pad_sequences(all_sequences,maxlen=100,truncating='post')\n"
   ]
  },
  {
   "cell_type": "code",
   "execution_count": 204,
   "metadata": {},
   "outputs": [],
   "source": [
    "real = full.values[:,4]\n",
    "real.shape = (len(real),1)"
   ]
  },
  {
   "cell_type": "code",
   "execution_count": 205,
   "metadata": {},
   "outputs": [],
   "source": [
    "seqs.shape\n",
    "full.values\n",
    "data = np.concatenate([seqs,real],axis=1)"
   ]
  },
  {
   "cell_type": "code",
   "execution_count": 206,
   "metadata": {},
   "outputs": [],
   "source": [
    "train,test = train_test_split(data,test_size=.50)"
   ]
  },
  {
   "cell_type": "code",
   "execution_count": 208,
   "metadata": {},
   "outputs": [
    {
     "name": "stdout",
     "output_type": "stream",
     "text": [
      "(22449, 100)\n",
      "(22449, 1)\n"
     ]
    }
   ],
   "source": [
    "train_data = train[:,:train.shape[1]-1]\n",
    "train_labels = train[:,train.shape[1]-1:]\n",
    "print(train_data.shape)\n",
    "print(train_labels.shape)"
   ]
  },
  {
   "cell_type": "code",
   "execution_count": 209,
   "metadata": {},
   "outputs": [
    {
     "name": "stdout",
     "output_type": "stream",
     "text": [
      "(22449, 100)\n",
      "(22449, 1)\n"
     ]
    }
   ],
   "source": [
    "test_data = test[:,:test.shape[1]-1]\n",
    "test_labels = test[:,test.shape[1]-1:]\n",
    "print(test_data.shape)\n",
    "print(test_labels.shape)"
   ]
  },
  {
   "cell_type": "code",
   "execution_count": 210,
   "metadata": {},
   "outputs": [
    {
     "name": "stdout",
     "output_type": "stream",
     "text": [
      "Model: \"sequential_4\"\n",
      "_________________________________________________________________\n",
      "Layer (type)                 Output Shape              Param #   \n",
      "=================================================================\n",
      "embedding_3 (Embedding)      (None, None, 64)          1920064   \n",
      "_________________________________________________________________\n",
      "simple_rnn_3 (SimpleRNN)     (None, 64)                8256      \n",
      "_________________________________________________________________\n",
      "dense_3 (Dense)              (None, 1)                 65        \n",
      "=================================================================\n",
      "Total params: 1,928,385\n",
      "Trainable params: 1,928,385\n",
      "Non-trainable params: 0\n",
      "_________________________________________________________________\n"
     ]
    }
   ],
   "source": [
    "model = models.Sequential()\n",
    "model.add(layers.Embedding(30001, 64))\n",
    "model.add(layers.SimpleRNN(64))\n",
    "model.add(layers.Dense(1, activation='sigmoid'))\n",
    "model.summary()"
   ]
  },
  {
   "cell_type": "code",
   "execution_count": 211,
   "metadata": {},
   "outputs": [],
   "source": [
    "model.compile(optimizer='rmsprop', loss='binary_crossentropy', metrics=['accuracy'])"
   ]
  },
  {
   "cell_type": "code",
   "execution_count": 212,
   "metadata": {},
   "outputs": [
    {
     "name": "stdout",
     "output_type": "stream",
     "text": [
      "Train on 22449 samples, validate on 22449 samples\n",
      "Epoch 1/10\n",
      "22449/22449 [==============================] - 33s 1ms/sample - loss: 0.5200 - acc: 0.7090 - val_loss: 0.1164 - val_acc: 0.9633\n",
      "Epoch 2/10\n",
      "22449/22449 [==============================] - 34s 2ms/sample - loss: 0.1204 - acc: 0.9638 - val_loss: 0.1639 - val_acc: 0.9489\n",
      "Epoch 3/10\n",
      "22449/22449 [==============================] - 35s 2ms/sample - loss: 0.0661 - acc: 0.9804 - val_loss: 0.2691 - val_acc: 0.8981\n",
      "Epoch 4/10\n",
      "22449/22449 [==============================] - 34s 2ms/sample - loss: 0.0614 - acc: 0.9816 - val_loss: 0.0490 - val_acc: 0.9855\n",
      "Epoch 5/10\n",
      "22449/22449 [==============================] - 34s 2ms/sample - loss: 0.0366 - acc: 0.9881 - val_loss: 0.0279 - val_acc: 0.9931\n",
      "Epoch 6/10\n",
      "22449/22449 [==============================] - 35s 2ms/sample - loss: 0.0321 - acc: 0.9889 - val_loss: 0.0349 - val_acc: 0.9894\n",
      "Epoch 7/10\n",
      "22449/22449 [==============================] - 35s 2ms/sample - loss: 0.0248 - acc: 0.9916 - val_loss: 0.0368 - val_acc: 0.9906\n",
      "Epoch 8/10\n",
      "22449/22449 [==============================] - 35s 2ms/sample - loss: 0.0262 - acc: 0.9922 - val_loss: 0.0352 - val_acc: 0.9915\n",
      "Epoch 9/10\n",
      "22449/22449 [==============================] - 35s 2ms/sample - loss: 0.0162 - acc: 0.9963 - val_loss: 0.0336 - val_acc: 0.9929\n",
      "Epoch 10/10\n",
      "22449/22449 [==============================] - 35s 2ms/sample - loss: 0.0313 - acc: 0.9900 - val_loss: 0.0417 - val_acc: 0.9911\n"
     ]
    }
   ],
   "source": [
    "history = model.fit(train_data, train_labels,\n",
    "                    epochs=10,\n",
    "                    batch_size=128,\n",
    "                    validation_data=(test_data, test_labels)\n",
    "                   )"
   ]
  },
  {
   "cell_type": "code",
   "execution_count": 214,
   "metadata": {},
   "outputs": [
    {
     "data": {
      "image/png": "[encoded data removed]",
      "text/plain": [
       "<Figure size 432x288 with 1 Axes>"
      ]
     },
     "metadata": {
      "needs_background": "light"
     },
     "output_type": "display_data"
    },
    {
     "data": {
      "image/png": "[encoded data removed]",
      "text/plain": [
       "<Figure size 432x288 with 1 Axes>"
      ]
     },
     "metadata": {
      "needs_background": "light"
     },
     "output_type": "display_data"
    }
   ],
   "source": [
    "acc = history.history['acc']\n",
    "val_acc = history.history['val_acc']\n",
    "loss = history.history['loss']\n",
    "val_loss = history.history['val_loss']\n",
    "\n",
    "epochs = range(1, len(acc) + 1)\n",
    "\n",
    "plt.plot(epochs, loss, 'bo', label='Training loss')\n",
    "plt.plot(epochs, val_loss, 'orange', label='Validation loss')\n",
    "plt.title('Training and validation loss')\n",
    "plt.legend()\n",
    "\n",
    "plt.figure()\n",
    "\n",
    "plt.plot(epochs, acc, 'bo', label='Training accuracy')\n",
    "plt.plot(epochs, val_acc, 'orange', label='Validation accuracy')\n",
    "plt.title('Training and validation accuracy')\n",
    "plt.legend()\n",
    "\n",
    "plt.show()"
   ]
  },
  {
   "cell_type": "code",
   "execution_count": null,
   "metadata": {},
   "outputs": [],
   "source": []
  }
 ],
 "metadata": {
  "kernelspec": {
   "display_name": "Python 3",
   "language": "python",
   "name": "python3"
  },
  "language_info": {
   "codemirror_mode": {
    "name": "ipython",
    "version": 3
   },
   "file_extension": ".py",
   "mimetype": "text/x-python",
   "name": "python",
   "nbconvert_exporter": "python",
   "pygments_lexer": "ipython3",
   "version": "3.7.6"
  }
 },
 "nbformat": 4,
 "nbformat_minor": 4
}
